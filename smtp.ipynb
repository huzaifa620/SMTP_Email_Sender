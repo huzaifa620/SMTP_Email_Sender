{
 "cells": [
  {
   "cell_type": "code",
   "execution_count": null,
   "id": "9c4b9166",
   "metadata": {},
   "outputs": [],
   "source": [
    "import smtplib\n",
    "from email.mime.text import MIMEText\n",
    "from email.mime.multipart import MIMEMultipart\n",
    "from email.mime.application import MIMEApplication\n",
    "from os.path import basename\n",
    "\n",
    "def send_mail(send_from: str, subject: str, text: str, send_to: list, files= None):\n",
    "    send_to = default_address if not send_to else send_to\n",
    "    msg = MIMEMultipart()\n",
    "    msg['From'] = send_from\n",
    "    msg['To'] = ', '.join(send_to)  \n",
    "    msg['Subject'] = subject\n",
    "    msg.attach(MIMEText(text))\n",
    "    for f in files or []:\n",
    "        with open(f, \"rb\") as fil: \n",
    "            ext = f.split('.')[-1:]\n",
    "            attachedfile = MIMEApplication(fil.read(), _subtype = ext)\n",
    "            attachedfile.add_header('content-disposition', 'attachment', filename=basename(f) )\n",
    "        msg.attach(attachedfile)\n",
    "    \n",
    "    if '@gmail' in send_from:\n",
    "        smtp = smtplib.SMTP(host=\"smtp.gmail.com\", port=587)\n",
    "    elif '@yahoo' in send_from:\n",
    "        smtp = smtplib.SMTP(host=\"smtp.mail.yahoo.com\", port=587)\n",
    "    elif '@outlook' in send_from or '@hotmail' in send_from:\n",
    "        smtp = smtplib.SMTP(host=\"smtp-mail.outlook.com\", port=587)\n",
    "    elif '@verizonwireless' in send_from:\n",
    "        smtp = smtplib.SMTP(host=\"smtp.verizon.net\", port=465)\n",
    "        \n",
    "    smtp.starttls()\n",
    "    smtp.login(username, password)\n",
    "    smtp.sendmail(send_from, send_to, msg.as_string())\n",
    "    smtp.close()\n",
    "    \n",
    "\n",
    "email_subject = 'haha'\n",
    "email_text = 'nothing'\n",
    "real_emails = ['owaisahmed142002@gmail.com',\n",
    "'alikhanhamza434@gmail.com',\n",
    "'owaisahmed142002@hotmail.com',\n",
    "'faghost6201@yahoo.com'\n",
    "]\n",
    "username = 'faghost6201@outlook.com'\n",
    "password = 'Prisoner620123'\n",
    "\n",
    "send_mail(send_from = username,\n",
    "    subject = email_subject,\n",
    "    text = email_text,\n",
    "    send_to = real_emails\n",
    "    #files = posts\n",
    ")"
   ]
  },
  {
   "cell_type": "code",
   "execution_count": null,
   "id": "05cd0a43",
   "metadata": {},
   "outputs": [],
   "source": [
    "#username = 'faghost6201@gmail.com'\n",
    "#password = 'mochdbbyiiwmxzzg'"
   ]
  }
 ],
 "metadata": {
  "kernelspec": {
   "display_name": "Python 3 (ipykernel)",
   "language": "python",
   "name": "python3"
  },
  "language_info": {
   "codemirror_mode": {
    "name": "ipython",
    "version": 3
   },
   "file_extension": ".py",
   "mimetype": "text/x-python",
   "name": "python",
   "nbconvert_exporter": "python",
   "pygments_lexer": "ipython3",
   "version": "3.10.9"
  }
 },
 "nbformat": 4,
 "nbformat_minor": 5
}
